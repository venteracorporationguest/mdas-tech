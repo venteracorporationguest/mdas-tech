{
 "cells": [
  {
   "cell_type": "markdown",
   "metadata": {},
   "source": [
    "## Import Libraries"
   ]
  },
  {
   "cell_type": "code",
   "execution_count": 87,
   "metadata": {},
   "outputs": [],
   "source": [
    "import tensorflow as tf\n",
    "import pandas as pd\n",
    "import numpy as np\n",
    "\n",
    "from sklearn.preprocessing import OneHotEncoder, LabelBinarizer, MultiLabelBinarizer\n",
    "from sklearn.utils import shuffle\n",
    "from tensorflow.keras.layers import Dense\n",
    "from tensorflow.keras.models import Sequential\n",
    "\n",
    "from tensorflow.keras.preprocessing import text\n",
    "\n",
    "import pickle"
   ]
  },
  {
   "cell_type": "markdown",
   "metadata": {},
   "source": [
    "## Constants (can be changed and re-run to see effect on model)"
   ]
  },
  {
   "cell_type": "code",
   "execution_count": 88,
   "metadata": {},
   "outputs": [],
   "source": [
    "TRAIN_PERCENT = .8\n",
    "VOCAB_SIZE = 200"
   ]
  },
  {
   "cell_type": "markdown",
   "metadata": {},
   "source": [
    "## Read and Shuffle Data"
   ]
  },
  {
   "cell_type": "code",
   "execution_count": 89,
   "metadata": {},
   "outputs": [
    {
     "data": {
      "text/html": [
       "<div>\n",
       "<style scoped>\n",
       "    .dataframe tbody tr th:only-of-type {\n",
       "        vertical-align: middle;\n",
       "    }\n",
       "\n",
       "    .dataframe tbody tr th {\n",
       "        vertical-align: top;\n",
       "    }\n",
       "\n",
       "    .dataframe thead th {\n",
       "        text-align: right;\n",
       "    }\n",
       "</style>\n",
       "<table border=\"1\" class=\"dataframe\">\n",
       "  <thead>\n",
       "    <tr style=\"text-align: right;\">\n",
       "      <th></th>\n",
       "      <th>Industry</th>\n",
       "      <th>Symbol</th>\n",
       "      <th>Description</th>\n",
       "    </tr>\n",
       "  </thead>\n",
       "  <tbody>\n",
       "    <tr>\n",
       "      <th>2</th>\n",
       "      <td>Finance</td>\n",
       "      <td>TURN</td>\n",
       "      <td>Harris &amp; Harris Group Inc. ® (the \"Company\" \"u...</td>\n",
       "    </tr>\n",
       "    <tr>\n",
       "      <th>1</th>\n",
       "      <td>Finance</td>\n",
       "      <td>PIHPP</td>\n",
       "      <td>1347 Property Insurance Holdings Inc. (“PIH” t...</td>\n",
       "    </tr>\n",
       "    <tr>\n",
       "      <th>9</th>\n",
       "      <td>Energy</td>\n",
       "      <td>MMLP</td>\n",
       "      <td>References in this annual report to \"we\" \"ours...</td>\n",
       "    </tr>\n",
       "    <tr>\n",
       "      <th>6</th>\n",
       "      <td>Energy</td>\n",
       "      <td>AREX</td>\n",
       "      <td>Approach Resources Inc. is an independent ener...</td>\n",
       "    </tr>\n",
       "    <tr>\n",
       "      <th>3</th>\n",
       "      <td>Finance</td>\n",
       "      <td>CVCY</td>\n",
       "      <td>Central Valley Community Bancorp is a bank hol...</td>\n",
       "    </tr>\n",
       "  </tbody>\n",
       "</table>\n",
       "</div>"
      ],
      "text/plain": [
       "  Industry Symbol                                        Description\n",
       "2  Finance   TURN  Harris & Harris Group Inc. ® (the \"Company\" \"u...\n",
       "1  Finance  PIHPP  1347 Property Insurance Holdings Inc. (“PIH” t...\n",
       "9   Energy   MMLP  References in this annual report to \"we\" \"ours...\n",
       "6   Energy   AREX  Approach Resources Inc. is an independent ener...\n",
       "3  Finance   CVCY  Central Valley Community Bancorp is a bank hol..."
      ]
     },
     "execution_count": 89,
     "metadata": {},
     "output_type": "execute_result"
    }
   ],
   "source": [
    "data = pd.read_csv('data/data.csv')\n",
    "data = shuffle(data, random_state=22)\n",
    "\n",
    "data.head()"
   ]
  },
  {
   "cell_type": "markdown",
   "metadata": {},
   "source": [
    "## One-Hot Encode Labels"
   ]
  },
  {
   "cell_type": "code",
   "execution_count": 90,
   "metadata": {},
   "outputs": [
    {
     "data": {
      "text/plain": [
       "[['Finance'],\n",
       " ['Finance'],\n",
       " ['Energy'],\n",
       " ['Energy'],\n",
       " ['Finance'],\n",
       " ['Energy'],\n",
       " ['Finance'],\n",
       " ['Energy'],\n",
       " ['Finance'],\n",
       " ['Finance']]"
      ]
     },
     "execution_count": 90,
     "metadata": {},
     "output_type": "execute_result"
    }
   ],
   "source": [
    "industries = [industries.split(';') for industries in data['Industry'].values]\n",
    "industries"
   ]
  },
  {
   "cell_type": "code",
   "execution_count": 91,
   "metadata": {},
   "outputs": [
    {
     "data": {
      "text/plain": [
       "array([[0, 1],\n",
       "       [0, 1],\n",
       "       [1, 0],\n",
       "       [1, 0],\n",
       "       [0, 1],\n",
       "       [1, 0],\n",
       "       [0, 1],\n",
       "       [1, 0],\n",
       "       [0, 1],\n",
       "       [0, 1]])"
      ]
     },
     "execution_count": 91,
     "metadata": {},
     "output_type": "execute_result"
    }
   ],
   "source": [
    "encoder = MultiLabelBinarizer()\n",
    "industries_encoded = encoder.fit_transform(industries)\n",
    "num_industries = len(industries_encoded[0])\n",
    "industries_encoded"
   ]
  },
  {
   "cell_type": "markdown",
   "metadata": {},
   "source": [
    "## Split Industry data between train / test"
   ]
  },
  {
   "cell_type": "code",
   "execution_count": 92,
   "metadata": {},
   "outputs": [
    {
     "name": "stdout",
     "output_type": "stream",
     "text": [
      "Train Size: 8\n",
      "Test Size: 2\n"
     ]
    }
   ],
   "source": [
    "train_size = int(len(data) * TRAIN_PERCENT)\n",
    "print('Train Size: %d' % train_size)\n",
    "print('Test Size: %d' % (len(data) - train_size))"
   ]
  },
  {
   "cell_type": "code",
   "execution_count": 93,
   "metadata": {},
   "outputs": [],
   "source": [
    "train_industries = industries_encoded[:train_size]\n",
    "test_industries = industries_encoded[train_size:]"
   ]
  },
  {
   "cell_type": "markdown",
   "metadata": {},
   "source": [
    "## Create Tokenizer Preprocessor Class"
   ]
  },
  {
   "cell_type": "code",
   "execution_count": 94,
   "metadata": {},
   "outputs": [],
   "source": [
    "class TextPreprocessor(object):\n",
    "    def __init__(self, vocab_size):\n",
    "        self.vocab_size = vocab_size\n",
    "        self.tokenizer = None\n",
    "    \n",
    "    def create_tokenizer(self, text_list):\n",
    "        tokenizer = text.Tokenizer(num_words=self.vocab_size)\n",
    "        tokenizer.fit_on_texts(text_list)\n",
    "        self.tokenizer = tokenizer\n",
    "    \n",
    "    def transform_text(self, text_list):\n",
    "        text_matrix = self.tokenizer.texts_to_matrix(text_list)\n",
    "        return text_matrix"
   ]
  },
  {
   "cell_type": "markdown",
   "metadata": {},
   "source": [
    "## Create Bag of Words Matrices"
   ]
  },
  {
   "cell_type": "code",
   "execution_count": 95,
   "metadata": {},
   "outputs": [],
   "source": [
    "train_descriptions = data['Description'].values[:train_size]\n",
    "test_descriptions = data['Description'].values[train_size:]\n",
    "\n",
    "processor = TextPreprocessor(VOCAB_SIZE)\n",
    "processor.create_tokenizer(train_descriptions)\n",
    "\n",
    "body_train = processor.transform_text(train_descriptions)\n",
    "body_test = processor.transform_text(test_descriptions)"
   ]
  },
  {
   "cell_type": "markdown",
   "metadata": {},
   "source": [
    "## Preview Training Data"
   ]
  },
  {
   "cell_type": "code",
   "execution_count": 96,
   "metadata": {},
   "outputs": [
    {
     "name": "stdout",
     "output_type": "stream",
     "text": [
      "200\n",
      "[0. 1. 1. 1. 1. 1. 1. 1. 1. 1. 1. 1. 1. 0. 1. 1. 0. 1. 1. 1. 1. 0. 1. 0.\n",
      " 1. 1. 1. 1. 0. 0. 1. 1. 0. 0. 0. 0. 1. 1. 0. 1. 1. 1. 0. 0. 0. 0. 1. 0.\n",
      " 1. 1. 1. 1. 0. 0. 0. 0. 1. 0. 0. 0. 1. 1. 0. 0. 0. 0. 1. 1. 0. 0. 0. 1.\n",
      " 0. 1. 1. 1. 0. 0. 0. 0. 0. 1. 1. 0. 0. 0. 0. 0. 0. 0. 1. 1. 1. 1. 1. 0.\n",
      " 0. 0. 0. 0. 0. 0. 0. 0. 1. 1. 1. 1. 1. 0. 0. 0. 0. 0. 0. 0. 0. 0. 0. 1.\n",
      " 1. 1. 1. 1. 1. 0. 0. 0. 0. 0. 0. 0. 0. 0. 0. 0. 0. 1. 1. 1. 1. 1. 1. 1.\n",
      " 0. 0. 0. 0. 0. 0. 0. 0. 0. 0. 0. 0. 0. 0. 0. 0. 0. 0. 0. 1. 1. 1. 1. 1.\n",
      " 1. 1. 1. 1. 0. 0. 0. 0. 0. 0. 0. 0. 0. 0. 0. 0. 0. 0. 0. 0. 0. 0. 0. 0.\n",
      " 0. 0. 1. 1. 1. 1. 1. 1.]\n"
     ]
    }
   ],
   "source": [
    "print(len(body_train[0]))\n",
    "print(body_train[0])"
   ]
  },
  {
   "cell_type": "markdown",
   "metadata": {},
   "source": [
    "## Save the state of our processor"
   ]
  },
  {
   "cell_type": "code",
   "execution_count": 97,
   "metadata": {},
   "outputs": [],
   "source": [
    "with open('./processor_state.pkl', 'wb') as f:\n",
    "    pickle.dump(processor, f)"
   ]
  },
  {
   "cell_type": "markdown",
   "metadata": {},
   "source": [
    "## Create the Model"
   ]
  },
  {
   "cell_type": "code",
   "execution_count": 98,
   "metadata": {},
   "outputs": [
    {
     "name": "stdout",
     "output_type": "stream",
     "text": [
      "_________________________________________________________________\n",
      "Layer (type)                 Output Shape              Param #   \n",
      "=================================================================\n",
      "dense_3 (Dense)              (None, 50)                10050     \n",
      "_________________________________________________________________\n",
      "dense_4 (Dense)              (None, 25)                1275      \n",
      "_________________________________________________________________\n",
      "dense_5 (Dense)              (None, 2)                 52        \n",
      "=================================================================\n",
      "Total params: 11,377\n",
      "Trainable params: 11,377\n",
      "Non-trainable params: 0\n",
      "_________________________________________________________________\n"
     ]
    }
   ],
   "source": [
    "def create_model(vocab_size, num_tags):\n",
    "    model = Sequential()\n",
    "    model.add(Dense(50, input_shape=(vocab_size,), activation='relu'))\n",
    "    model.add(Dense(25, activation='relu'))\n",
    "    model.add(Dense(num_tags, activation='sigmoid'))\n",
    "\n",
    "    model.compile(loss='binary_crossentropy', optimizer='adam', metrics=['accuracy'])\n",
    "    return model\n",
    "\n",
    "model = create_model(VOCAB_SIZE, num_industries)\n",
    "model.summary()"
   ]
  },
  {
   "cell_type": "markdown",
   "metadata": {},
   "source": [
    "## Train the Model"
   ]
  },
  {
   "cell_type": "code",
   "execution_count": 103,
   "metadata": {},
   "outputs": [
    {
     "data": {
      "text/plain": [
       "array(['Harris & Harris Group Inc. ® (the \"Company\" \"us\" \"our\" and \"we\") is an internally managed investment company. We have elected to be regulated as a business development company (\"BDC\") under the Investment Company Act of 1940 (the \"1940 Act\"). For tax purposes we have elected to be treated as a regulated investment company (\"RIC\") under Subchapter M of the Internal Revenue Code of 1986 (the \"Code\"). However as is discussed in detail in Note 10 to our Consolidated Financial Statements we did not qualify as a RIC in 2016 but we had no taxable income. We were incorporated under the laws of the state of New York in August 1981. We are overseen by our Board of Directors and managed by our officers and have no external investment adviser.   Historically our investment objective has been to achieve long-term capital appreciation investing in venture capital investments. Our focus was making investments in transformative companies enabled by what we believed was disruptive science. More recently we have focused our investments on transformative companies in precision health and medicine. We then provided strategic operational and management resources and creative financial solutions to these companies. While we will continue to provide such resources to our existing portfolio companies including our precision health and medicine companies our investment objective on future new investments will be focused on generating capital appreciation and current income from investments in what we believe are deeply undervalued small publicly traded companies where we believe we can positively impact the business and valuation through constructive activism.  We believe we combine new perspectives with the historical knowledge and experience of managing the current portfolio. We believe these complementary sets of experiences and skills in investment management and in working with management teams to build businesses can be a foundation for future growth. We believe we will be able to generate income and grow net asset value per share for shareholders over shorter more predictable timeframes than we have experienced historically.      While there are multiple fund managers that invest in smaller publicly traded companies we believe that these managers are often not able to engage or interested in engaging with such companies on an active basis. We believe our expertise and focus on constructive activism could be an attractive complement to other investors in the space. Our new simplified structure and focus could lead to partnerships or other opportunities. We believe that the universe of potential partners on this strategy is substantially larger than those focused on privately held investments. We believe we will be in a strong position to seek these strategic partnership opportunities with the current and future assets of our company. We believe we provide four core benefits to our shareholders. First our go-forward investment strategy offers investors the opportunity to leverage our experience extensive diligence and active portfolio management of what we believe are significantly undervalued publicly traded companies that may be difficult to replicate on an individual basis. Second we provide shareholders with access to an existing privately held portfolio of disruptive companies that we believe may yield significant returns on invested capital in the future. Third we provide access for accredited investors to co-invest with us in our portfolio companies when we acquire pre-emptive rights and either lack sufficient capital to fully exercise those rights or otherwise determine that such investment is not appropriate for us. Fourth we are able to invest opportunistically in multiple types of securities to take advantage of market inefficiencies.',\n",
       "       '1347 Property Insurance Holdings Inc. (“PIH” the “Company” “we” or “us”) is an insurance holding company specialized in providing personal property insurance in coastal markets including those in Louisiana Texas and Florida. These markets are characterized as regions where larger national insurers have reduced their market share in favor of other less catastrophe exposed markets. These markets are also characterized by state-administered residual insurers controlling large market shares. These unique markets can trace their roots to Hurricane Andrew after which larger national carriers limited their capital allocation and approaches to property risk aggregation. These trends accelerated again after back to back exceptionally active hurricane seasons in 2004 and 2005. However the decade following Hurricane Katrina in 2005 had relatively few losses arising from tropical storm activity which led to declines in reinsurance pricing and increases in its availability. We were incorporated on October 2 2012 in the State of Delaware to take advantage of these favorable dynamics where premium could be acquired relatively more quickly and under less competitive pressure than in other property insurance markets and where the cost of reinsurance a significant expense for primary insurers was declining from record high levels. We execute on this opportunity via a management team with expertise in the critical facets of our business: underwriting claims reinsurance and operations. Within our three-state market we seek to sell our products in territories with the highest rate per exposure and the least complexity in terms of risk. As of December 31 2018 we covered risks under approximately 69000 policies an increase of over 35% from one year prior.     On November 19 2013 we changed our legal name from Maison Insurance Holdings Inc. to 1347 Property Insurance Holdings Inc. and on March 31 2014 we completed an initial public offering of our common stock. Prior to March 31 2014 we were a wholly owned subsidiary of Kingsway America Inc. which in turn is a wholly owned subsidiary of Kingsway Financial Services Inc. or KFSI a publicly owned Delaware holding company. As of December 31 2018 KFSI and its affiliates no longer held any of our outstanding shares of common stock but did hold warrants that if exercised would cause KFSI and its affiliates to hold an approximate 20% ownership interest in our common stock. In addition as of December 31 2018 Fundamental Global Investors LLC and its affiliates or FGI beneficially owned approximately 45% of our outstanding shares of common stock. D. Kyle Cerminara Chairman of our Board of Directors serves as Chief Executive Officer Co-Founder and Partner of FGI and Lewis M. Johnson Co-Chairman of our Board of Directors serves as President Co-Founder and Partner of FGI.     We have four wholly-owned subsidiaries: Maison Insurance Company or “Maison” Maison Managers Inc. or “MMI” ClaimCor LLC or “ClaimCor” and PIH Re Ltd.    Through Maison we began providing property and casualty insurance to individuals in Louisiana in December 2012. In September 2015 Maison began writing manufactured home policies in the State of Texas on a direct basis and in December 2017 Maison began writing wind/hail only policies in Florida via the assumption of policies from Florida Citizens Property Insurance Corporation (“FL Citizens”). Our current insurance offerings in Louisiana Texas and Florida include homeowners insurance manufactured home insurance and dwelling fire insurance. We write both full peril property policies as well as wind/hail only exposures and we produce new policies through a network of independent insurance agencies. We refer to the policies we write through independent agencies as voluntary policies versus those policies we have assumed through state-run insurers such as FL Citizens which we refer to as take-out policies. We also wrote commercial business in Texas through a quota share agreement with Brotherhood Mutual Insurance Company (“Brotherhood”). Through this agreement we had assumed wind/hail only exposures on certain churches and related structures Brotherhood insures throughout the State of Texas. We discontinued this business effective January 1 2018 as a result of our evaluation of the risk adjusted returns on this portion of our operations.',\n",
       "       'References in this annual report to \"we\" \"ours\" \"us\" or like terms when used in a historical context refer to the assets and operations of Martin Resource Management\\'s business contributed to us in connection with our initial public offering on November 6 2002. References in this annual report to \"Martin Resource Management\" refer to Martin Resource Management Corporation and its subsidiaries unless the context otherwise requires. References in this annual report to the \"Partnership\" refer to Martin Midstream Partners L.P. and its subsidiaries unless the content otherwise requires. You should read the following discussion of our financial condition and results of operations in conjunction with the consolidated financial statements and the notes thereto included elsewhere in this annual report. For more detailed information regarding the basis for presentation for the following information you should read the notes to the consolidated financial statements included elsewhere in this annual report.  Forward-Looking Statements  This annual report on Form 10-K includes \"forward-looking statements\" within the meaning of Section 27A of the Securities Act of 1933 as amended and Section 21E of the Securities Exchange Act of 1934 as amended. Statements included in this annual report that are not historical facts (including any statements concerning plans and objectives of management for future operations or economic performance or assumptions or forecasts related thereto) are forward-looking statements. These statements can be identified by the use of forward-looking terminology including \"forecast\" \"may\" \"believe\" \"will\" \"expect\" \"anticipate\" \"estimate\" \"continue\" or other similar words. These statements discuss future expectations contain projections of results of operations or of financial condition or state other \"forward-looking\" information. We and our representatives may from time to time make other oral or written statements that are also forward-looking statements.  These forward-looking statements are made based upon management\\'s current plans expectations estimates assumptions and beliefs concerning future events impacting us and therefore involve a number of risks and uncertainties. We caution that forward-looking statements are not guarantees and that actual results could differ materially from those expressed or implied in the forward-looking statements.  Because these forward-looking statements involve risks and uncertainties actual results could differ materially from those expressed or implied by these forward-looking statements for a number of important reasons including those discussed below in \"Item 1A. Risk Factors - Risks Related to our Business.\"  Overview  We are a publicly traded limited partnership with a diverse set of operations focused primarily in the United States (\"U.S.\") Gulf Coast region. Our four primary business lines include:  • Natural gas liquids transportation and distribution services and natural gas storage;  • Terminalling and storage services for petroleum products and by-products including the refining of naphthenic crude oil and the blending and packaging of finished lubricants;  • Sulfur and sulfur-based products gathering processing marketing manufacturing and distribution; and  • Marine transportation services for petroleum products and by-products.  The petroleum products and by-products we collect transport store and market are produced primarily by major and independent oil and gas companies who often turn to third parties such as us for the transportation and disposition of these products. In addition to these major and independent oil and gas companies our primary customers include independent refiners large chemical companies fertilizer manufacturers and other wholesale purchasers of these products. We operate primarily in the U.S. Gulf Coast region. This region is a major hub for petroleum refining natural gas gathering and processing and support services for the exploration and production industry.  We were formed in 2002 by Martin Resource Management a privately-held company whose initial predecessor was incorporated in 1951 as a supplier of products and services to drilling rig contractors. Since then Martin Resource Management has expanded its operations through acquisitions and internal expansion initiatives as its management identified  1  and capitalized on the needs of producers and purchasers of petroleum products and by-products and other bulk liquids. Martin Resource Management is an important supplier and customer of ours. As of December 31 2018  Martin Resource Management owned 15.7% of our total outstanding common limited partner units. Furthermore Martin Resource Management controls Martin Midstream GP LLC (\"MMGP\") our general partner by virtue of its 51% voting interest in MMGP Holdings LLC (\"Holdings\") the sole member of MMGP. MMGP owns a 2% general partner interest in us and all of our incentive distribution rights. Martin Resource Management directs our business operations through its ownership interests in and control of our general partner.  We entered into an omnibus agreement dated November 1 2002 with Martin Resource Management (the \"Omnibus Agreement\") that governs among other things potential competition and indemnification obligations among the parties to the agreement related party transactions the provision of general administration and support services by Martin Resource Management and our use of certain of Martin Resource Management’s trade names and trademarks. Under the terms of the Omnibus Agreement the employees of Martin Resource Management are responsible for conducting our business and operating our assets.  Martin Resource Management has operated our business since 2002.  Martin Resource Management began operating our natural gas services business in the 1950s and our sulfur business in the 1960s. It began our marine transportation business in the late 1980s. It entered into our fertilizer and terminalling and storage businesses in the early 1990s. Over the last 10 years Martin Resource Management has increased the size of our asset base through expansions and strategic acquisitions. Primary Business Segments Our primary business segments can be generally described as follows:  • Terminalling and Storage.   We own or operate 19 marine shore-based terminal facilities and 14 specialty terminal facilities located primarily in the U.S. Gulf Coast region that provide storage refining blending packaging and handling services for producers and suppliers of petroleum products and by-products including the refining of naphthenic crude oil and the blending and packaging of various grades and quantities of industrial commercial and automotive lubricants and greases. Our facilities and resources provide us with the ability to handle various products that require specialized treatment such as molten sulfur and asphalt. We also provide land rental to oil and gas companies along with storage and handling services for lubricants and fuels. We provide these terminalling and storage services on a fee basis primarily under long-term contracts. A significant portion of the contracts in this segment provide for minimum fee arrangements that are not based on the volumes handled.  • Natural Gas Services.   We distribute natural gas liquids (\"NGLs\"). We purchase NGLs primarily from refineries and natural gas processors. We store and transport NGLs for wholesale deliveries to refineries industrial NGL users in Texas and the Southeastern U.S and propane retailers. We own an NGL pipeline which spans approximately 200 miles from Kilgore Texas to Beaumont Texas. We own approximately 2.4 million barrels of underground storage capacity for NGLs. Additionally we own 100% of the interests in Cardinal Gas Storage Partners LLC (\"Cardinal\") which is focused on the operation and management of natural gas storage facilities across northern Louisiana and Mississippi.  • Sulfur Services.   We have developed an integrated system of transportation assets and facilities relating to sulfur services. We process and distribute sulfur produced by oil refineries primarily located in the U.S. Gulf Coast region. We buy and sell molten sulfur on contracts that are tied to sulfur indices and tend to provide stable margins. We process molten sulfur into prilled or pelletized sulfur at our facilities in Port of Stockton California and Beaumont Texas on contracts that often provide guaranteed minimum fees. The sulfur we process and handle is primarily used in the production of fertilizers and industrial chemicals. We own and operate five sulfur-based fertilizer production plants and one emulsified sulfur blending plant that manufactures primarily sulfur-based fertilizer products for wholesale distributors and industrial users. These plants are located in Texas and Illinois. Demand for our sulfur products exist in both the domestic and foreign markets and our asset base provides additional opportunities to handle increases in U.S. supply and access to foreign demand.  • Marine Transportation.   We operate a fleet of 31 inland marine tank barges 17 inland push boats and one offshore tug and barge unit that transport petroleum products and by-products largely in the U.S. Gulf Coast region. We provide these transportation services on a fee basis primarily under annual contracts and many of our customers have long standing contractual relationships with us. Our modernized asset base is attractive both to our existing customers as well as potential new customers. In addition our fleet contains several vessels that reflect our focus on specialty products.',\n",
       "       'Approach Resources Inc. is an independent energy company focused on the exploration  development  production and acquisition of unconventional oil and gas reserves in the Midland Basin of the greater Permian Basin in West Texas  where we lease approximately 150 000 net acres as of December 31  2018. We believe our concentrated acreage position and extensive  integrated field infrastructure system provide us an opportunity to achieve cost  operating and recovery efficiencies in the development of our drilling inventory. Our long-term business strategy is to develop resource potential from the Wolfcamp shale oil formation and pursue acquisitions that meet our strategic and financial objectives. See “— Our Business Strategy” below. Additional drilling targets could include the Clearfork  Canyon Sands  Strawn and Ellenburger zones. We sometimes refer to our development project in the Permian Basin as “Project Pangea ” which includes “Pangea West.” Our management and technical team have a proven track record of finding and developing reserves through advanced drilling and completion techniques. As the operator of all of our estimated proved reserves and production  we have a high degree of control over capital expenditures and other operating matters.  At December 31  2018  our estimated proved reserves were 180.1 million barrels of oil equivalent (“MMBoe”). Substantially all of our proved reserves are located in Crockett and Schleicher Counties  Texas. The following are important characteristics of our proved reserves at December 31  2018:     •  29% oil  31% NGLs and 40% natural gas;     •  37% proved developed;     •  100% operated;     •  Reserve life of approximately 44 years based on 2018 production of 4.1 MMBoe;     •  Standardized measure of discounted future net cash flows (“standardized measure”) of $660 million; and     •  PV-10 (non-GAAP) of $761.8 million.  PV-10 is our estimate of the present value of future net revenues from proved oil  NGLs and natural gas reserves after deducting estimated production and ad valorem taxes  future capital costs and operating expenses  but before deducting any estimates for future income taxes. Estimated future net revenues are discounted at an annual rate of 10% to determine their present value. PV-10 is a financial measure that is not determined in accordance with accounting principles generally accepted in the United States (“GAAP”)  and generally differs from the standardized measure  the most directly comparable GAAP financial measure  because it does not include the effects of income taxes on future cash flows. PV-10 should not be considered as an alternative to the standardized measure  as computed under GAAP. See Item 2. “Properties — Proved Oil and Gas Reserves” for a reconciliation of PV-10 to the standardized measure.  At December 31  2018  we owned and operated 813 producing oil and gas wells in the Permian Basin. During 2018  we produced 4.1 MMBoe  or 11.2 MBoe/d. Production for 2018 was 26% oil  36% NGLs and 38% natural gas.  Our History  Approach Resources Inc. was incorporated in September 2002. Our common stock began trading on the NASDAQ Global Market in the United States under the symbol “AREX” on November 8  2007  and is now listed on the NASDAQ Global Select Market (“NASDAQ”). Our principal executive offices are located at One Ridgmar Centre  6500 West Freeway  Suite 800  Fort Worth  Texas 76116. Our telephone number is (817) 989-9000.  1        Our Business Strategy  Our long-term business strategy is to create value by growing reserves and production in a cost efficient manner and at attractive rates of return by pursuing the strategies discussed below. However  the rate of growth of our reserves and production  as well as achievable rates of return  depend on commodity prices and the availability of capital.  In response to deteriorating and volatile commodity prices  we substantially reduced our drilling activity beginning in 2015  which has led to a natural decline in production. Commodity prices have continued to remain volatile and have drastically fallen again in 2018  which has resulted in unanticipated delays in our ability to resume and accelerate our drilling activity over the last several years. In order to address the effect of the sustained commodity price volatility and deterioration on our business strategy and financial metrics  we have pursued  and currently are pursuing or considering  a number of alternatives to strengthen our balance sheet and resume production growth. These factors raise substantial doubt about our ability to continue as a going concern. See Note 1 to our consolidated financial statements in this report for additional information regarding our plans to improve our leverage and our ability to continue to comply with the financial covenants under our revolving credit facility.  In order to improve our leverage position to meet upcoming financial covenants under the revolving credit facility  we have been  and currently are  pursuing or considering a number of deleveraging and strategic actions  which in certain cases may require the consent of current lenders  stockholders or bond holders. On April 12  2018  our largest shareholder  Wilks Brothers  LLC  and its affiliate SDW Investments  LLC (collectively  “Wilks”)  disclosed on Schedule 13D/A that they intended to engage in discussions with the Company regarding their investment in the Company  including the possible acquisition of additional shares of common stock through the exchange of approximately $60 million of 7% Senior Notes due 2021 (the “Senior Notes”) currently held by Wilks (the “Exchange Transaction”). In April 2018  our board of directors formed a committee of independent directors (the “Special Committee”) to evaluate a potential Exchange Transaction as well as other strategic alternatives. The Special Committee hired financial and legal advisors to advise the Special Committee on these matters.  The Special Committee engaged in discussions with Wilks regarding an Exchange Transaction in 2018  but in mid-2018 the Wilks and the Committee deferred further discussions regarding a stand-alone Exchange Transaction pending resolution of the Company’s discussions regarding the potential transaction described in the following paragraph.     In addition  management has reviewed numerous cash flow producing properties for potential acquisition over the last several years in order to grow our production base and reduce our leverage ratio to a sustainable level and one that is in compliance with our financial covenants.  In early 2018  we retained a financial advisor  separate from the Special Committee’s advisor  and began discussions with a potential seller and multiple financing counterparties for the purchase of a set of substantial cash flow producing properties.  Despite a deteriorating commodity price market  discussions with both the seller and financing parties progressed throughout 2018.  However  no definitive agreements ultimately were executed  and the negotiations currently are not active.  In March 2019  our board of directors expanded the scope of the Special Committee to explore  in addition to an Exchange Transaction  other financing alternatives and deleveraging transactions  including without lim itation (i) amendments or waivers to the covenants or other provisions of our revolving credit facility  (ii) raising new capital in private or public markets and (iii) restructuring our balance sheet either in court or through an out of court agreement with creditors. We are also considering operational matters such as adjusting our capital budget and improving cash flows from operations by continuing to reduce costs  and intend to continue to pursue and consider other strategic alternatives  including: (i) acquiring assets with existing production and cash flows by issuing preferred and common equity to finance such acquisitions; (ii) selling existing producing or midstream assets; (iii) merging with a strategic partner. The Special Committee has re-commenced discussions with the Wilks regarding an Exchange Transaction and intends to continue those discussions as part of its review of financing alternatives and deleveraging transactions. There can be no assurance that we will be able to implement any of these plans successfully  or that such plans  if executed  will result in compliance with our credit facility covenants.  We also continue to position ourselves to increase our drilling activity at a measured and disciplined pace  and resume production growth in the event of a continued and sustained commodity price recovery  by focusing on the following strategies:     •  Strengthen our balance sheet and financial flexibility. We intend to continue to explore a broad range of deleveraging alternatives as discussed above.  2           •  Acquire strategic and complementary assets.  We continually review opportunities to acquire producing properties   undeveloped acreage and drilling prospects. We focus particularly on opportunities where we believe our operational efficiency  reservoi r management and geological expertise in unconventional oil and gas properties will enhance value and performance. We remain focused on unconventional resource opportunities  but we will also consider conventional opportunities based on individual project economics.     •  Develop our Wolfcamp shale oil resource play . We believe our current acreage position provides us the long-term ability to increase reserves and production at competitive costs and at attractive rates of return when commodity prices improve. During 2018  we drilled six  and completed nine  horizontal Wolfcamp wells  and entered 2019 with an inventory of seven drilled horizontal wells waiting on completion. With our 2019 drilling plan  we expect to continue to develop our core properties in Project Pangea  subject to commodity prices. Focusing on the Wolfcamp shale oil play allows us to use our operating  technical and regional expertise important to interpreting geological and operating trends  enhancing production rates and maximizing well recovery. In addition  our inventory of drilled wells waiting on completion allows us to increase production with lower marginal capital expenditures.     •  Operate our properties as a low-cost producer. We believe our concentrated acreage position in the Midland Basin enables us to capture economies of scale and operating efficiencies. Through our investment in extensive integrated field infrastructure  including water transportation and recycling systems  centralized production facilities  gas lift lines and saltwater disposal wells  we have significantly reduced drilling and completion costs  per-unit lease operating expenses and our fresh water use over the last three years. In addition  because we operate 100% of our reserve base  we are able to better manage timing and scope of capital expenditures and control costs.     •  Operate our business at or near cash-flow breakeven . In 2019  we have set our expected capital expenditure budget to a range of $30 million to $60 million. We believe that over the long term we will be able to maintain and grow production substantially out of operating cash flow. We have the operational flexibility to adjust our capital spending upward in response to a commodity price recovery. Operating our business at or near operating cash flow allows us to preserve liquidity so that we will be able to accelerate execution of our long-term strategy should commodity prices further recover. Because we operate 100% of our reserve base  we also have the flexibility to adjust our capital budget downward in response to commodity price decreases.     •  Mitigate commodity price volatility. We enter into commodity derivative contracts to partially mitigate the risk of commodity price volatility. For 2018  we hedged approximately 57%  61% and 63% of our natural gas  NGLs and oil production  respectively. For 2019  we currently have 182 500 Bbls of oil hedged at a floor price of $65.00 per Bbl and a ceiling price of $71.00 per Bbl and 239 575 Bbls of NGLs hedged at weighted average prices of $14.12 per Bbl (C2-ethane)  $36.54 per Bbl (C3-propane)  $38.63 per Bbl (NC4-butane) and $65.21 per Bbl (C5 – Pentane).  Our Competitive Strengths  We have a number of competitive strengths  which we believe will help us to successfully execute our business strategies:     •  Lower-risk  liquids-rich asset base. We have assembled a strong asset base within the Midland Basin  where we have a long history of operating. We have drilled more than 800 wells in the area since 2004. Our acreage position of 150 000 net  primarily contiguous acres in the Midland Basin provides us with a multi-year inventory of repeatable  horizontal and vertical drilling locations that we believe create the opportunity for us to deliver long-term reserve  production and cash flow growth. Production for 2018 was 62% liquids (26% oil and 36% NGLs) and 38% natural gas.  With a liquids-rich but diverse production base  we are able to capture the upside of improvement in commodity prices in any one of our three production streams.     •  Installation of field infrastructure and water handling systems. Our large  mostly contiguous acreage position and our success in the Wolfcamp shale oil play led us to invest over $125 million in building field infrastructure since 2012. We have an extensive network of centralized production facilities  water transportation  handling and recycling systems  gas lift lines and saltwater disposal wells. In addition   3           we believe the infrastructure reduces the need for trucks  reduces fresh water usage  improves drilling and completion effic iencies and drives down drilling and completion and operating costs.     •  High degree of operational control.   We operate 100% of our estimated proved reserves  and we have approximately 98.5% working interest in Project Pangea. This allows us to more effectively manage and control the timing of capital spending on our development activities  as well as maximize benefits from operating cost efficiencies and field infrastructure systems.     •  Proactive financial management .  In 2018  we executed a disciplined capital expenditure program  spending 22% less than the midpoint of our annual budget.  As of December 31  2018  we had liquidity of approximately $23.2 million. In 2017  we completed a debt-for-equity exchange which reduced the outstanding principal of our long-term debt by $145.1 million  extended the term on our revolving credit facility by one year to May 7  2020  and completed an acquisition of producing Wolfcamp shale assets adjacent to our Project Pangea acreage. Currently  we are continuing to evaluate a broad range of transactions to reduce our leverage. We also enter into commodity derivative contracts to partially mitigate the risk of commodity price volatility.   •  Experienced management team with track record of growth. Our management team has extensive industry experience  including significant technical and exploration expertise. Our management team has specific expertise in the Permian Basin and in successfully executing multi-year development drilling programs.',\n",
       "       \"Central Valley Community Bancorp is a bank holding company registered under the Bank Holding Company Act of 1956 as amended (the “Company”). The Company was incorporated on February 7 2000 as a California corporation for the purpose of becoming the holding company for Central Valley Community Bank (the “Bank”) formerly known as Clovis Community Bank a California state chartered bank through a corporate reorganization.  In the reorganization the Bank became the wholly-owned subsidiary of the Company and the shareholders of the Bank became the shareholders of the Company.  The Company made a decision in the first half of 2002 to change the name of its one subsidiary Clovis Community Bank to Central Valley Community Bank. At December 31 2018  the Bank was our only banking subsidiary.  The Bank is a multi-community bank that offers a full range of commercial banking services to small and medium size businesses and their owners managers and employees in the central valley area of California.  We serve nine contiguous counties in California’s central valley including Fresno County El Dorado County Madera County Merced County Placer County Sacramento County San Joaquin County Stanislaus County and Tulare County and their surrounding areas.  We do not currently conduct any operations other than through the Bank.  Unless the context otherwise requires references to “us” “we” or “our” refer to the Company and the Bank on a consolidated basis.  At December 31 2018  we had consolidated total assets of approximately $1537836000 .  See Items 7 and 8  Management’s Discussion and Analysis of Financial Condition and Results of Operations  and Financial Statements . Effective October 1 2017 the Company and Folsom Lake Bank (FLB) completed a merger under which Folsom Lake Bank with two full-service offices located in Folsom and Rancho Cordova (Sacramento County) merged with and into the Bank. Effective October 1 2016 the Company and Sierra Vista Bank (SVB) completed a merger under which Sierra Vista Bank with three full-service offices located in Folsom and Fair Oaks (Sacramento County) and Cameron Park (El Dorado County) merged with and into the Bank. The Company is regulated by the Board of Governors of the Federal Reserve. The Bank is regulated by the California Department of Business Oversight and its primary Federal regulator is the Federal Deposit Insurance Corporation (“FDIC”). As of March 1 2019 we had a total of 309 employees and 290 full time equivalent employees including the employees of the Bank.  The Bank The Bank was organized in 1979 and commenced business as a California state chartered bank in 1980.  The deposits of the Bank are insured by the FDIC up to applicable limits.  The Bank is not a member of the Federal Reserve System. The Bank operates 21 full-service banking offices in Cameron Park Clovis Exeter Fair Oaks Folsom Fresno Kerman Lodi Madera Merced Modesto Oakhurst Prather Rancho Cordova Roseville Sacramento Stockton and Visalia. The Bank conducts a commercial banking business which includes accepting demand savings and time deposits and making commercial real estate and consumer loans.  It also provides domestic and international wire transfer services and provides safe deposit boxes and other customary banking services.  The Bank also offers Internet banking.  Internet banking consists of inquiry account status bill paying account transfers and cash management.  The Bank does not offer trust services or international banking services and does not currently plan to do so in the near future.  The Bank has a Real Estate Division an Agribusiness Center and an SBA Lending Division in Fresno.  The Real Estate Division processes or assists in processing the majority of the Bank's real estate related transactions including interim construction loans for single family residences and commercial buildings.  We offer permanent single family residential loans through our mortgage broker services.  Our total market share of deposits in Fresno Madera San Joaquin and Tulare counties was 3.42% in 2018 compared to 3.69% in 2017 based on FDIC deposit market share information published as of June 30 2018. Our total market share in the other counties we operate in (El Dorado Merced Placer Sacramento and Stanislaus) was less than 1.00% in 2018 and 2017. We have a diversified loan portfolio. At December 31 2018  we had total loans of $918695000 .  Total commercial and industrial loans outstanding were $101533000  total agricultural land and production loans outstanding were $7998000  total real estate construction and other land loans outstanding were $101606000 ; total other real estate loans outstanding were $597970000  total equity loans and lines of credit were $69958000 and total consumer installment loans outstanding were $38038000 .  Our loans are collateralized by real estate listed securities savings and time deposits automobiles inventory accounts receivable machinery and equipment. In addition to acquisitions we have experienced organic growth by expanding our branch network. Opening new branches provides us with opportunities to expand our loan and deposit base; however based on past experience management expects these new offices may initially have a negative impact on earnings until the volume of business grows to cover fixed overhead expenses.  Management of the Bank analyses its branch network on an ongoing basis to determine whether to open new branches or consolidate or eliminate existing branches in the future. In 2018 we consolidated three banking offices into\",\n",
       "       'Summary Description of Chevron Chevron Corporation * a Delaware corporation manages its investments in subsidiaries and affiliates and provides administrative financial management and technology support to U.S. and international subsidiaries that engage in integrated energy and chemicals operations. Upstream operations consist primarily of exploring for developing and producing crude oil and natural gas; processing liquefaction transportation and regasification associated with liquefied natural gas; transporting crude oil by major international oil export pipelines; transporting storage and marketing of natural gas; and a gas-to-liquids plant. Downstream operations consist primarily of refining crude oil into petroleum products; marketing of crude oil and refined products; transporting crude oil and refined products by pipeline marine vessel motor equipment and rail car; and manufacturing and marketing of commodity petrochemicals plastics for industrial uses and fuel and lubricant additives. A list of the company’s major subsidiaries is presented on page E-1 . As of December 31 2018  Chevron had approximately 48600 employees (including about 3600 service station employees). Approximately 24800 employees (including about 3300 service station employees) or 51 percent were employed in U.S. operations. Overview of Petroleum Industry Petroleum industry operations and profitability are influenced by many factors. Prices for crude oil natural gas petroleum products and petrochemicals are generally determined by supply and demand. Production levels from the members of the Organization of Petroleum Exporting Countries (OPEC) Russia and the United States are the major factors in determining worldwide supply. Demand for crude oil and its products and for natural gas is largely driven by the conditions of local national and global economies although weather patterns and taxation relative to other energy sources also play a significant part. Laws and governmental policies particularly in the areas of taxation energy and the environment affect where and how companies invest conduct their operations and formulate their products and in some cases limit their profits directly. Strong competition exists in all sectors of the petroleum and petrochemical industries in supplying the energy fuel and chemical needs of industry and individual consumers. In the upstream business Chevron competes with fully integrated major global petroleum companies as well as independent and national petroleum companies for the acquisition of crude oil and natural gas leases and other properties and for the equipment and labor required to develop and operate those properties. In its downstream business Chevron competes with fully integrated major petroleum companies as well as independent refining and marketing transportation and chemicals entities and national petroleum companies in the refining manufacturing sale and marketing of fuels lubricants additives and petrochemicals. Operating Environment Refer to pages 28 through 34 of this Form 10-K in Management’s Discussion and Analysis of Financial Condition and Results of Operations for a discussion of the company’s current business environment and outlook. Chevron’s Strategic Direction Chevron’s primary objective is to deliver industry-leading results and superior shareholder value in any business environment. In the upstream the company’s strategy is to deliver industry-leading returns while developing high-value resource opportunities. In the downstream the company\\'s strategy is to grow earnings across the value chain and make targeted investments to lead the industry in returns. Information about the company is available on the company’s website at www.chevron.com . Information contained on the company’s website is not part of this Annual Report on Form 10-K. The company’s Annual Reports on Form 10-K Quarterly Reports on Form 10-Q Current Reports on Form 8-K and any amendments to these reports filed or furnished pursuant to Section 13(a) or 15(d) of the Securities Exchange Act of 1934 are available free of charge on the company’s website soon after such reports are filed with or furnished to the U.S. Securities and Exchange Commission (SEC). The reports are also available on the SEC’s website at www.sec.gov .  ________________________________________________________ * Incorporated in Delaware in 1926 as Standard Oil Company of California the company adopted the name Chevron Corporation in 1984 and ChevronTexaco Corporation in 2001. In 2005 ChevronTexaco Corporation changed its name to Chevron Corporation. As used in this report the term “Chevron” and such terms as “the company” “the corporation” “our” “we” “us” and \"its\" may refer to Chevron Corporation one or more of its consolidated subsidiaries or all of them taken as a whole but unless stated otherwise they do not include “affiliates” of Chevron — i.e. those companies accounted for by the equity method (generally owned 50 percent or less) or investments accounted for by the cost method. All of these terms are used for convenience only and are not intended as a precise description of any of the separate companies each of which manages its own affairs. 3    Description of Business and Properties The upstream and downstream activities of the company and its equity affiliates are widely dispersed geographically with operations and projects * in North America South America Europe Africa Asia and Australia. Tabulations of segment sales and other operating revenues earnings and income taxes for the three years ending December 31 2018  and assets as of the end of 2018 and 2017  — for the United States and the company’s international geographic areas — are in Note 13 to the Consolidated Financial Statements beginning on page  66 . Similar comparative data for the company’s investments in and income from equity affiliates and property plant and equipment are in Note 14 beginning on page 69 and Note 17 on page 77 . Refer to pages 39 and 40 of this Form 10-K in Management\\'s Discussion and Analysis of Financial Condition and Results of Operations for a discussion of the company\\'s capital and exploratory expenditures.  Upstream Reserves Refer to Table V beginning on page  95 for a tabulation of the company’s proved net liquids (including crude oil condensate natural gas liquids and synthetic oil) and natural gas reserves by geographic area at the beginning of 2016 and each year-end from 2016 through 2018 . Reserves governance technologies used in establishing proved reserves additions and major changes to proved reserves by geographic area for the three-year period ended December 31 2018  are summarized in the discussion for Table V. Discussion is also provided regarding the nature of status of and planned future activities associated with the development of proved undeveloped reserves. The company recognizes reserves for projects with various development periods sometimes exceeding five years. The external factors that impact the duration of a project include scope and complexity remoteness or adverse operating conditions infrastructure constraints and contractual limitations. At December 31 2018  29 percent of the company\\'s net proved oil-equivalent reserves were located in the United States 20 percent were located in Australia and 18 percent were located in Kazakhstan.',\n",
       "       'E*TRADE is a financial services company that provides brokerage and related products and services for traders investors stock plan administrators and participants and registered investment advisors (RIAs). Founded on the principle of innovation we aim to enhance the financial independence of traders and investors through a powerful digital offering that includes tools and educational materials complemented by professional advice and support catering to the complex and unique needs of customers to help meet their near- and long-term investing goals . We provide these services to customers through our digital platforms and network of industry-licensed customer service representatives and financial consultants over the phone by email and online via two national financial centers and in-person at 30 regional financial centers across the United States. We operate federally chartered savings banks with the primary purpose of maximizing the value of deposits generated through our brokerage business. Our corporate offices are located at 11 Times Square 32 nd Floor New York New York 10036. We were incorporated in California in 1982 and reincorporated in Delaware in July 1996. We had approximately 4000 employees at December 31 2018. We operate directly and through several subsidiaries many of which are overseen by governmental and self-regulatory organizations (SROs). Substantially all of our revenues for the years ended December 31 2018 2017 and 2016 were derived from our operations in the United States. Our most important subsidiaries are described below: • E*TRADE Securities LLC (E*TRADE Securities) is a registered broker-dealer that clears and settles customer transactions • E*TRADE Bank is a federally chartered savings bank that provides Federal Deposit Insurance Corporation (FDIC) insurance on certain qualifying amounts of customer deposits and provides other banking and cash management capabilities • E*TRADE Savings Bank a subsidiary of E*TRADE Bank is a federally chartered savings bank that provides FDIC insurance on certain qualifying amounts of customer deposits and provides custody solutions for RIAs • E*TRADE Financial Corporate Services is a provider of software and services for managing equity compensation plans to our corporate clients • E*TRADE Futures LLC (E*TRADE Futures) is a registered non-clearing Futures Commission Merchant (FCM) that provides retail futures transaction capabilities for our customers • E*TRADE Capital Management LLC (E*TRADE Capital Management) is a registered investment advisor that provides investment advisory services for our customers',\n",
       "       'Overview  We are a master limited partnership formed in March 2005. We own  control or have access to one of the largest terminal networks of refined petroleum products and renewable fuels in Massachusetts  Maine  Connecticut  Vermont  New Hampshire  Rhode Island  New York  New Jersey and Pennsylvania (collectively  the “Northeast”). We are one of the region’s largest independent owners  suppliers and operators of gasoline stations and convenience stores. As of December 31  2018  we had a portfolio of 1 579 owned  leased and/or supplied gasoline stations  including 297 directly operated convenience stores  primarily in the Northeast. We are also one of the largest distributors of gasoline  distillates  residual oil and renewable fuels to wholesalers  retailers and commercial customers in the New England states and New York. We engage in the purchasing  selling  gathering  blending  storing and logistics of transporting petroleum and related products  including gasoline and gasoline blendstocks (such as ethanol)  distillates (such as home heating oil  diesel and kerosene)  residual oil  renewable fuels  crude oil and propane and in the transportation of petroleum products and renewable fuels by rail from the mid‑continent region of the United States and Canada.  We purchase refined petroleum products  gasoline blendstocks  renewable fuels  crude oil and propane primarily from domestic and foreign refiners and ethanol producers  crude oil producers  major and independent oil companies and trading companies. We operate our businesses under three segments: (i) Wholesale  (ii) Gasoline Distribution and Station Operations (“GDSO”) and (iii) Commercial.  Global GP LLC  our general partner  manages our operations and activities and employs our officers and substantially all of our personnel  except for most of our gasoline station and convenience store employees who are employed by our wholly owned subsidiary  Global Montello Group Corp. (“GMG”).  2018 Events  Series A Preferred Unit Offering —On August 7  2018  we issued 2 760 000 9.75% Series   A Fixed-to-Floating Rate Cumulative Redeemable Perpetual Preferred Units representing limited partner interests (the “Series   A Preferred Units”) for $25.00 per Series   A Preferred Unit in an offering registered under the Securities Act of 1933. We used the proceeds  net of underwriting discount and expenses  of $66.4   million to reduce indebtedness under our credit agreement. See Note 17 of Notes to Consolidated Financial Statements for additional information.  Acquisition from Cheshire Oil Company  LLC —On July 24  2018  we acquired the assets of ten company-operated gasoline stations and convenience stores from New Hampshire-based Cheshire Oil Company    LLC (“Cheshire”) for approximately $33.4 million  including inventory . See Note 19 of Notes to Consolidated Financial Statements for additional information.  Acquisition from Champlain Oil Company  Inc.— On July 17  2018  we acquired retail fuel and convenience store assets from Vermont-based Champlain Oil Company  Inc. (“Champlain) for approximately $138.4 million  including inventory .   The acquisition included 37 company-operated gasoline stations with Jiffy Mart-branded convenience stores in Vermont and New Hampshire and approximately 24 fuel sites that are either owned or leased  including lessee dealer and commission agent locations. The transaction also included fuel supply agreements for approximately 65 gasoline stations  primarily in Vermont and New Hampshire. See Note 19 of Notes to Consolidated Financial Statements for additional information.    Volumetric Ethanol Excise Tax Credit— In the first quarter of 2018  we recognized a one-time income item of approximately $52.6 million as a result of the extinguishment of a contingent liability related to the Volumetric Ethanol   6     Table of Contents  Excise Tax Credit  which tax credit program expired in 2011. Based upon the significant passage of time from that 2011 expiration date  including underlying statutes of limitation  as of January 31  2018 we determined that the liability was no longer required. The recognition of this one-time income item  which is included in gain (loss) on trustee taxes in the accompanying consolidated statements of operations for the year ended December 31  2018  did not impact cash flows from operations for the year ended December 31  2018.   Operating Segments  We purchase refined petroleum products  gasoline blendstocks  renewable fuels  crude oil and propane primarily from domestic and foreign refiners and ethanol producers  crude oil producers  major and independent oil companies and trading companies. We operate our businesses under three segments: (i) Wholesale  (ii) GDSO and (iii) Commercial. In 2018  our Wholesale  GDSO and Commercial sales accounted for approximately 55%  35% and 10% of our total sales  respectively.  Wholesale  In our Wholesale segment  we engage in the logistics of selling  gathering  blending  storing and transporting refined petroleum products  gasoline blendstocks  renewable fuels  crude oil and propane. We transport these products by railcars  barges and/or pipelines pursuant to spot or long‑term contracts. From time to time  we aggregate crude oil by truck or pipeline in the mid‑continent region of the United States and Canada  transport it by rail and ship it by barge to refiners. We sell home heating oil  branded and unbranded gasoline and gasoline blendstocks  diesel  kerosene  residual oil and propane to home heating oil and propane retailers and wholesale distributors. Generally  customers use their own vehicles or contract carriers to take delivery of the gasoline  distillates and propane at bulk terminals and inland storage facilities that we own or control or at which we have throughput or exchange arrangements. Ethanol is shipped primarily by rail and by barge.  Gasoline Distribution and Station Operations  In our GDSO segment  gasoline distribution includes sales of branded and unbranded gasoline to gasoline station operators and sub-jobbers. Station operations include (i) convenience stores  (ii) rental income from gasoline stations leased to dealers  from commissioned agents and from cobranding arrangements and (iii) sundries (such as car wash sales and lottery and ATM commissions).  As of December 31  2018  we had a portfolio of owned  leased and/or supplied gasoline stations  primarily in the Northeast  that consisted of the following:              Company operated        297    Commissioned agents     259     Lessee dealers     237     Contract dealers     786     Total     1 579     Commercial  In our Commercial segment  we include sales and deliveries to end user customers in the public sector and to large commercial and industrial end users of unbranded gasoline  home heating oil  diesel  kerosene  residual oil and bunker fuel. In the case of public sector commercial and industrial end user customers  we sell products primarily either through a competitive bidding process or through contracts of various terms. We generally arrange for the delivery of the product to the customer’s designated location  and we respond to publicly issued requests for product proposals and quotes. Our Commercial segment also includes sales of custom blended fuels delivered by barges or from a terminal dock to ships through bunkering activity.'],\n",
       "      dtype=object)"
      ]
     },
     "execution_count": 103,
     "metadata": {},
     "output_type": "execute_result"
    }
   ],
   "source": [
    "train_descriptions"
   ]
  },
  {
   "cell_type": "code",
   "execution_count": 104,
   "metadata": {},
   "outputs": [
    {
     "name": "stdout",
     "output_type": "stream",
     "text": [
      "Train on 7 samples, validate on 1 samples\n",
      "WARNING:tensorflow:From /Users/ccravens/anaconda3/lib/python3.6/site-packages/tensorflow/python/ops/math_ops.py:3066: to_int32 (from tensorflow.python.ops.math_ops) is deprecated and will be removed in a future version.\n",
      "Instructions for updating:\n",
      "Use tf.cast instead.\n",
      "Epoch 1/3\n",
      "7/7 [==============================] - 0s 38ms/sample - loss: 0.7981 - acc: 0.4286 - val_loss: 0.6674 - val_acc: 0.5000\n",
      "Epoch 2/3\n",
      "7/7 [==============================] - 0s 2ms/sample - loss: 0.6100 - acc: 0.5714 - val_loss: 0.6497 - val_acc: 0.5000\n",
      "Epoch 3/3\n",
      "7/7 [==============================] - 0s 2ms/sample - loss: 0.5153 - acc: 0.8571 - val_loss: 0.6144 - val_acc: 0.5000\n"
     ]
    },
    {
     "data": {
      "text/plain": [
       "<tensorflow.python.keras.callbacks.History at 0x1a3696aba8>"
      ]
     },
     "execution_count": 104,
     "metadata": {},
     "output_type": "execute_result"
    }
   ],
   "source": [
    "model.fit(body_train, train_industries, epochs=3, batch_size=1, validation_split=0.1)"
   ]
  },
  {
   "cell_type": "markdown",
   "metadata": {},
   "source": [
    "## Evaluate the Model"
   ]
  },
  {
   "cell_type": "code",
   "execution_count": 105,
   "metadata": {},
   "outputs": [
    {
     "name": "stdout",
     "output_type": "stream",
     "text": [
      "\r",
      "2/2 [==============================] - 0s 699us/sample - loss: 0.7144 - acc: 0.5000\n"
     ]
    },
    {
     "data": {
      "text/plain": [
       "[0.7143846750259399, 0.5]"
      ]
     },
     "execution_count": 105,
     "metadata": {},
     "output_type": "execute_result"
    }
   ],
   "source": [
    "model.evaluate(body_test, test_industries, batch_size=128)"
   ]
  },
  {
   "cell_type": "markdown",
   "metadata": {},
   "source": [
    "## Save the Model"
   ]
  },
  {
   "cell_type": "code",
   "execution_count": 106,
   "metadata": {},
   "outputs": [],
   "source": [
    "model.save('industry_classifier.h5')"
   ]
  },
  {
   "cell_type": "markdown",
   "metadata": {},
   "source": [
    "## Manual Model Testing"
   ]
  },
  {
   "cell_type": "code",
   "execution_count": null,
   "metadata": {},
   "outputs": [],
   "source": []
  }
 ],
 "metadata": {
  "kernelspec": {
   "display_name": "Python 3",
   "language": "python",
   "name": "python3"
  },
  "language_info": {
   "codemirror_mode": {
    "name": "ipython",
    "version": 3
   },
   "file_extension": ".py",
   "mimetype": "text/x-python",
   "name": "python",
   "nbconvert_exporter": "python",
   "pygments_lexer": "ipython3",
   "version": "3.6.5"
  }
 },
 "nbformat": 4,
 "nbformat_minor": 2
}
